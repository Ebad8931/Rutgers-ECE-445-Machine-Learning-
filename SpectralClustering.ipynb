{
 "cells": [
  {
   "cell_type": "code",
   "execution_count": 1,
   "metadata": {},
   "outputs": [],
   "source": [
    "import numpy as np\n",
    "import pandas as pd\n",
    "from sklearn import preprocessing as sklpp\n",
    "from sklearn import decomposition as skldecomp\n",
    "import matplotlib.pyplot as plt"
   ]
  },
  {
   "cell_type": "code",
   "execution_count": 2,
   "metadata": {},
   "outputs": [],
   "source": [
    "train_X = pd.read_csv('./dataset/X_tran.csv')"
   ]
  },
  {
   "cell_type": "code",
   "execution_count": 3,
   "metadata": {},
   "outputs": [],
   "source": [
    "mean_datascaler = sklpp.StandardScaler(with_mean=True, with_std=False)\n",
    "ctd_train_X = mean_datascaler.fit_transform(train_X)\n",
    "data_pca = skldecomp.PCA(n_components=0.90, svd_solver='full')\n",
    "skl_features = data_pca.fit_transform(ctd_train_X)"
   ]
  },
  {
   "cell_type": "code",
   "execution_count": 4,
   "metadata": {},
   "outputs": [],
   "source": [
    "from sklearn.cluster import SpectralClustering"
   ]
  },
  {
   "cell_type": "code",
   "execution_count": 13,
   "metadata": {},
   "outputs": [],
   "source": [
    "y_pred = SpectralClustering(n_clusters=6).fit_predict(skl_features)"
   ]
  },
  {
   "cell_type": "code",
   "execution_count": 17,
   "metadata": {},
   "outputs": [
    {
     "data": {
      "image/png": "[encoded data removed]",
      "text/plain": [
       "<Figure size 432x288 with 1 Axes>"
      ]
     },
     "metadata": {
      "needs_background": "light"
     },
     "output_type": "display_data"
    }
   ],
   "source": [
    "plt.scatter(skl_features[:,0], skl_features[:,1],c=y_pred)\n",
    "plt.show()"
   ]
  },
  {
   "cell_type": "code",
   "execution_count": 15,
   "metadata": {},
   "outputs": [],
   "source": [
    "label_Y = pd.read_csv('./dataset/y_tran.csv')"
   ]
  },
  {
   "cell_type": "code",
   "execution_count": 21,
   "metadata": {},
   "outputs": [
    {
     "name": "stdout",
     "output_type": "stream",
     "text": [
      "pre label------ 0 ------\n",
      "most label\n",
      "6.0\n",
      "pre label------ 1 ------\n",
      "most label\n",
      "3.0\n",
      "pre label------ 2 ------\n",
      "most label\n",
      "3.0\n",
      "pre label------ 3 ------\n",
      "most label\n",
      "6.0\n",
      "pre label------ 4 ------\n",
      "most label\n",
      "3.0\n",
      "pre label------ 5 ------\n",
      "most label\n",
      "1.0\n"
     ]
    }
   ],
   "source": [
    "series=[]\n",
    "pre_label=[]\n",
    "for i in range(0,6):\n",
    "    print('pre label------',i,'------')\n",
    "    position = np.argwhere(y_pred == i).T[0]\n",
    "    one_se = []\n",
    "    for pos in position:\n",
    "        one_se.append(label_Y.loc[pos].iloc[0])\n",
    "    series.append(one_se)\n",
    "    print('most label')\n",
    "    p_l = max(one_se,key=one_se.count)\n",
    "    print(p_l)\n",
    "    pre_label.append(p_l)"
   ]
  },
  {
   "cell_type": "code",
   "execution_count": 20,
   "metadata": {},
   "outputs": [
    {
     "name": "stdout",
     "output_type": "stream",
     "text": [
      "[0.34571850393700787, 1.0, 1.0, 1.0, 1.0, 0.37538273116962645]\n",
      "0.36085418933623503\n"
     ]
    }
   ],
   "source": [
    "pre_Y = pre_label\n",
    "accr = []\n",
    "total = 0\n",
    "for i in range(0,6):\n",
    "    accr.append(series[i].count(pre_Y[i])/len(series[i]))\n",
    "    total = total + series[i].count(pre_Y[i])\n",
    "accy = total/len(label_Y)\n",
    "print(accr)\n",
    "print(accy)"
   ]
  }
 ],
 "metadata": {
  "kernelspec": {
   "display_name": "Python 3",
   "language": "python",
   "name": "python3"
  },
  "language_info": {
   "codemirror_mode": {
    "name": "ipython",
    "version": 3
   },
   "file_extension": ".py",
   "mimetype": "text/x-python",
   "name": "python",
   "nbconvert_exporter": "python",
   "pygments_lexer": "ipython3",
   "version": "3.7.4"
  }
 },
 "nbformat": 4,
 "nbformat_minor": 4
}
