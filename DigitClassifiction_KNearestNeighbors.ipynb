{
 "cells": [
  {
   "cell_type": "markdown",
   "metadata": {},
   "source": [
    "### Digit Classification Problem - Overview"
   ]
  },
  {
   "cell_type": "code",
   "execution_count": 1,
   "metadata": {},
   "outputs": [],
   "source": [
    "# Notebook Preamble\n",
    "import numpy as np\n",
    "import pandas as pd\n",
    "from matplotlib import pyplot as plt\n",
    "from IPython.display import display, Latex"
   ]
  },
  {
   "cell_type": "code",
   "execution_count": 2,
   "metadata": {},
   "outputs": [
    {
     "name": "stdout",
     "output_type": "stream",
     "text": [
      "Dimensions (5000, 785)\n",
      "[RangeIndex(start=0, stop=5000, step=1), Index(['label', 'pixel0', 'pixel1', 'pixel2', 'pixel3', 'pixel4', 'pixel5',\n",
      "       'pixel6', 'pixel7', 'pixel8',\n",
      "       ...\n",
      "       'pixel774', 'pixel775', 'pixel776', 'pixel777', 'pixel778', 'pixel779',\n",
      "       'pixel780', 'pixel781', 'pixel782', 'pixel783'],\n",
      "      dtype='object', length=785)]\n"
     ]
    }
   ],
   "source": [
    "# Loading data for Digit Recognizer Problem\n",
    "training_set = pd.read_csv(\"DigitRecognizer.csv\", nrows=5000)\n",
    "# Summary of Dataframe\n",
    "print('Dimensions', training_set.shape) \n",
    "print(training_set.axes)"
   ]
  },
  {
   "cell_type": "markdown",
   "metadata": {},
   "source": [
    "- The data file DigitRecognizer.csv contains gray-scale images of hand-drawn digits, from zero through nine.\n",
    "- Each image is 28 pixels in height and 28 pixels in width, for a total of 784 pixels in total. \n",
    "- The data set has 785 columns and 42K images. The first column, called \"label\", is the digit that was drawn by the user. The rest of the columns contain the pixel-values of the associated image. "
   ]
  },
  {
   "cell_type": "code",
   "execution_count": 3,
   "metadata": {},
   "outputs": [],
   "source": [
    "N = 5000 \n",
    "X = training_set.loc[:, 'pixel0':'pixel783']\n",
    "Y = training_set.loc[:, 'label']"
   ]
  },
  {
   "cell_type": "code",
   "execution_count": 4,
   "metadata": {},
   "outputs": [
    {
     "name": "stdout",
     "output_type": "stream",
     "text": [
      "X - Dimensions: (5000, 784) , Type: <class 'pandas.core.frame.DataFrame'>\n",
      "Y- Dimensions: (5000,) , Type: <class 'pandas.core.series.Series'>\n"
     ]
    }
   ],
   "source": [
    "print('X - Dimensions:', X.shape, ', Type:', type(X))\n",
    "print('Y- Dimensions:', Y.shape, ', Type:', type(Y))"
   ]
  },
  {
   "cell_type": "code",
   "execution_count": 5,
   "metadata": {},
   "outputs": [
    {
     "data": {
      "text/plain": [
       "<Figure size 432x288 with 0 Axes>"
      ]
     },
     "metadata": {},
     "output_type": "display_data"
    },
    {
     "data": {
      "image/png": "[encoded data removed]",
      "text/plain": [
       "<Figure size 288x288 with 1 Axes>"
      ]
     },
     "metadata": {
      "needs_background": "light"
     },
     "output_type": "display_data"
    },
    {
     "name": "stdout",
     "output_type": "stream",
     "text": [
      "Lable for this image: 4\n"
     ]
    }
   ],
   "source": [
    "plt.gray()\n",
    "plt.matshow(np.array(X.loc[3,:]).reshape((28,28)))\n",
    "plt.show()\n",
    "print('Lable for this image:', Y[3])"
   ]
  },
  {
   "cell_type": "markdown",
   "metadata": {},
   "source": [
    "### Digit Classification Problem - Preprocessing and Dimensionality Reduction"
   ]
  },
  {
   "cell_type": "code",
   "execution_count": 6,
   "metadata": {},
   "outputs": [],
   "source": [
    "from sklearn import preprocessing as sklpp\n",
    "from sklearn import decomposition as skldecomp"
   ]
  },
  {
   "cell_type": "code",
   "execution_count": 7,
   "metadata": {},
   "outputs": [],
   "source": [
    "# Standardizing mean using StandardScaler() object\n",
    "mean_datascaler = sklpp.StandardScaler(with_mean=True, with_std=False)\n",
    "X_centered = mean_datascaler.fit_transform(X)\n",
    "mean_vector = mean_datascaler.mean_"
   ]
  },
  {
   "cell_type": "code",
   "execution_count": 8,
   "metadata": {},
   "outputs": [
    {
     "data": {
      "text/plain": [
       "<Figure size 432x288 with 0 Axes>"
      ]
     },
     "metadata": {},
     "output_type": "display_data"
    },
    {
     "data": {
      "image/png": "[encoded data removed]",
      "text/plain": [
       "<Figure size 288x288 with 1 Axes>"
      ]
     },
     "metadata": {
      "needs_background": "light"
     },
     "output_type": "display_data"
    },
    {
     "name": "stdout",
     "output_type": "stream",
     "text": [
      "Lable for this image: 4\n"
     ]
    }
   ],
   "source": [
    "# Displaying the same image after data is centered\n",
    "plt.gray()\n",
    "plt.matshow(X_centered[3,:].reshape((28,28)))\n",
    "plt.show()\n",
    "print('Lable for this image:', Y[3])"
   ]
  },
  {
   "cell_type": "code",
   "execution_count": 9,
   "metadata": {},
   "outputs": [
    {
     "data": {
      "image/png": "[encoded data removed]",
      "text/plain": [
       "<Figure size 432x288 with 1 Axes>"
      ]
     },
     "metadata": {
      "needs_background": "light"
     },
     "output_type": "display_data"
    }
   ],
   "source": [
    "# creating an instance of the PCA() object\n",
    "pca = skldecomp.PCA().fit(X_centered)\n",
    "plt.figure()\n",
    "plt.plot(pca.explained_variance_ratio_)\n",
    "plt.xlabel('Number of Components')\n",
    "plt.ylabel('Variance (%)') #for each component\n",
    "plt.title('Scree Plot for PCA')\n",
    "plt.show()"
   ]
  },
  {
   "cell_type": "markdown",
   "metadata": {},
   "source": [
    "From the Scree Plot, it can be seen that most of the variance is captured by less than first 100 principal components, i.e $k < 100$."
   ]
  },
  {
   "cell_type": "code",
   "execution_count": 10,
   "metadata": {},
   "outputs": [
    {
     "data": {
      "text/latex": [
       "The value of the integer $k$ retaining 90% information is $k$ = 85."
      ],
      "text/plain": [
       "<IPython.core.display.Latex object>"
      ]
     },
     "metadata": {},
     "output_type": "display_data"
    }
   ],
   "source": [
    "# creating an instance of the PCA() object that retains 90% information\n",
    "data_pca = skldecomp.PCA(n_components=0.90, svd_solver='full') \n",
    "# using the fit_transform API to simultaneously compute PCA features and directions \n",
    "features_X = data_pca.fit_transform(X_centered) \n",
    "# printing the value of k, as returned by sklearn \n",
    "display(Latex(r'The value of the integer $k$ retaining 90% information is $k$ = {}.'.format(data_pca.n_components_)))"
   ]
  },
  {
   "cell_type": "code",
   "execution_count": 11,
   "metadata": {},
   "outputs": [],
   "source": [
    "# Reconstructing the image with k = 85\n",
    "M = data_pca.components_[0:85,:]\n",
    "X_tilde = X_centered@M.T\n",
    "X_hat = mean_datascaler.inverse_transform(X_tilde@M)"
   ]
  },
  {
   "cell_type": "code",
   "execution_count": 12,
   "metadata": {},
   "outputs": [
    {
     "data": {
      "text/plain": [
       "<Figure size 432x288 with 0 Axes>"
      ]
     },
     "metadata": {},
     "output_type": "display_data"
    },
    {
     "data": {
      "image/png": "[encoded data removed]",
      "text/plain": [
       "<Figure size 288x288 with 1 Axes>"
      ]
     },
     "metadata": {
      "needs_background": "light"
     },
     "output_type": "display_data"
    },
    {
     "name": "stdout",
     "output_type": "stream",
     "text": [
      "label for this image: 4\n"
     ]
    }
   ],
   "source": [
    "plt.gray() \n",
    "plt.matshow(X_hat[3,:].reshape((28,28))) \n",
    "plt.show()\n",
    "print('label for this image:', Y[3])"
   ]
  },
  {
   "cell_type": "code",
   "execution_count": 13,
   "metadata": {},
   "outputs": [
    {
     "data": {
      "image/png": "[encoded data removed]",
      "text/plain": [
       "<Figure size 432x288 with 1 Axes>"
      ]
     },
     "metadata": {
      "needs_background": "light"
     },
     "output_type": "display_data"
    }
   ],
   "source": [
    "energy_captured = data_pca.explained_variance_ratio_\n",
    "principal_components = [i for i in range(85)]\n",
    "plt.bar(principal_components, energy_captured)\n",
    "plt.title('Scree Plot for first 85 Principal Components')\n",
    "plt.xlabel('Principal Components')\n",
    "plt.ylabel('Energy Captured')\n",
    "plt.show()"
   ]
  },
  {
   "cell_type": "markdown",
   "metadata": {},
   "source": [
    "The chosen value for $k$ is $85$ since it captures 90% variability in the data."
   ]
  },
  {
   "cell_type": "code",
   "execution_count": 14,
   "metadata": {},
   "outputs": [
    {
     "name": "stdout",
     "output_type": "stream",
     "text": [
      "Independent Features: (5000, 85) , X_tilde Type: <class 'numpy.ndarray'>\n",
      "Corresponding Labels: (5000,) , Y Type: <class 'numpy.ndarray'>\n"
     ]
    }
   ],
   "source": [
    "# Modified data sets after Dimensionality Reduction\n",
    "print('Independent Features:', X_tilde.shape, ', X_tilde Type:', type(X_tilde))\n",
    "Y = np.array(Y)\n",
    "print('Corresponding Labels:', Y.shape, ', Y Type:', type(Y))"
   ]
  },
  {
   "cell_type": "markdown",
   "metadata": {},
   "source": [
    "### Digit Classification Problem - $K$ Nearest Neighors using 10 Fold Cross Validation"
   ]
  },
  {
   "cell_type": "code",
   "execution_count": 15,
   "metadata": {},
   "outputs": [
    {
     "name": "stdout",
     "output_type": "stream",
     "text": [
      "Number of Samples in each Fold: 500\n",
      "Number of Folds: 10\n",
      "Dimensions of feature data in each fold: (500, 85)\n",
      "Dimensions of label data in each fold: (500,)\n"
     ]
    }
   ],
   "source": [
    "# Dividing Datset into 10 sets for 10 fold cross validation\n",
    "k = 10\n",
    "m = N//k  # m is the number of elements in each fold\n",
    "print('Number of Samples in each Fold:', m)\n",
    "SX = np.array_split(X_tilde, k)\n",
    "SY = np.array_split(Y, k)\n",
    "print('Number of Folds:', len(SX))\n",
    "print('Dimensions of feature data in each fold:' , SX[0].shape)\n",
    "print('Dimensions of label data in each fold:' , SY[0].shape)"
   ]
  },
  {
   "cell_type": "code",
   "execution_count": 16,
   "metadata": {},
   "outputs": [],
   "source": [
    "def compute_yi_hat(x_i, training_data, training_labels, k):\n",
    "    # here, x_i is 85 dimensional vector\n",
    "    # Dimensions of training data is 4500\n",
    "    euclidean_distance_vector = np.empty(len(training_data))   \n",
    "    for i in range(len(training_data)):\n",
    "        euclidean_distance_vector[i] = np.linalg.norm(x_i - training_data[i])            \n",
    "    \n",
    "    idx = np.argpartition(euclidean_distance_vector, k)\n",
    "    nearest_neighors = idx[:k]  # list of indexes containing k nearest neighbors where k is atleast 1.\n",
    "    \n",
    "    yi_hat = [training_labels[nearest_neighors[i]] for i in range(k)]\n",
    "    \n",
    "    # Return the mode in the list yi_hat as the prediction\n",
    "    return max(set(yi_hat), key=yi_hat.count)"
   ]
  },
  {
   "cell_type": "code",
   "execution_count": 17,
   "metadata": {},
   "outputs": [
    {
     "data": {
      "text/plain": [
       "(5000,)"
      ]
     },
     "execution_count": 17,
     "metadata": {},
     "output_type": "execute_result"
    }
   ],
   "source": [
    "Y_hat = np.empty(len(Y), int)\n",
    "def compute_one_fold_error(test_data, test_labels, training_data, training_labels, k):\n",
    "    # here test_data is 500 samples containing 85 features\n",
    "    global Y_hat\n",
    "    \n",
    "    test_samples = len(test_data)\n",
    "    misclassification_count = 0\n",
    "    \n",
    "    for i in range(test_samples):\n",
    "        Y_hat[i] = compute_yi_hat(test_data[i], training_data, training_labels, k)\n",
    "        if Y_hat[i] != test_labels[i]:\n",
    "            misclassification_count += 1\n",
    "    \n",
    "    return misclassification_count/test_samples\n",
    "\n",
    "Y_hat.shape"
   ]
  },
  {
   "cell_type": "code",
   "execution_count": 18,
   "metadata": {},
   "outputs": [
    {
     "name": "stdout",
     "output_type": "stream",
     "text": [
      "10 Fold Cross Validation\n",
      "Dimensions of Test Data in Fold 1: (500, 85) (500,)\n",
      "Dimensions of Training Data in Fold 1: (4500, 85) (4500,)\n"
     ]
    }
   ],
   "source": [
    "# Computing Error for the 1st fold in 10 fold cross validation\n",
    "test_data = SX[0]\n",
    "test_labels = SY[0]\n",
    "training_data = SX[0+1]\n",
    "training_labels = SY[0+1]\n",
    "print(k, 'Fold Cross Validation')\n",
    "for i in range(k):\n",
    "    if i != 0 and i != 1:  \n",
    "        training_data = np.concatenate((training_data, SX[i]), axis=0)\n",
    "        training_labels = np.concatenate((training_labels, SY[i]), axis=0)\n",
    "\n",
    "print('Dimensions of Test Data in Fold 1:', test_data.shape, test_labels.shape)\n",
    "print('Dimensions of Training Data in Fold 1:', training_data.shape, training_labels.shape)"
   ]
  },
  {
   "cell_type": "markdown",
   "metadata": {},
   "source": [
    "#### Error in first fold in 10 Fold Cross Validation for different values of $K$"
   ]
  },
  {
   "cell_type": "code",
   "execution_count": 19,
   "metadata": {},
   "outputs": [
    {
     "name": "stdout",
     "output_type": "stream",
     "text": [
      "Error observed on Fold 1 in 10 Fold cross validation when K=1:  0.054\n",
      "Error observed on Fold 1 in 10 Fold cross validation when K=3:  0.054\n",
      "Error observed on Fold 1 in 10 Fold cross validation when K=5:  0.052\n",
      "Error observed on Fold 1 in 10 Fold cross validation when K=7:  0.06\n"
     ]
    }
   ],
   "source": [
    "# Analysis of First fold in 10 fold cross validation for different values of K Nearest Neighbors\n",
    "Error_fold_1 = compute_one_fold_error(test_data, test_labels, training_data, training_labels, 1)\n",
    "print('Error observed on Fold 1 in 10 Fold cross validation when K=1: ', Error_fold_1)\n",
    "# K=3\n",
    "Error_fold_1 = compute_one_fold_error(test_data, test_labels, training_data, training_labels, 3)\n",
    "print('Error observed on Fold 1 in 10 Fold cross validation when K=3: ', Error_fold_1)\n",
    "# K = 5\n",
    "Error_fold_1 = compute_one_fold_error(test_data, test_labels, training_data, training_labels, 5)\n",
    "print('Error observed on Fold 1 in 10 Fold cross validation when K=5: ', Error_fold_1)\n",
    "# K = 7\n",
    "Error_fold_1 = compute_one_fold_error(test_data, test_labels, training_data, training_labels, 7)\n",
    "print('Error observed on Fold 1 in 10 Fold cross validation when K=7: ', Error_fold_1)"
   ]
  },
  {
   "cell_type": "code",
   "execution_count": 20,
   "metadata": {},
   "outputs": [],
   "source": [
    "def compute_average_error_for_K_nearest_neighbor_classifier(data, labels, kfold, K_nearest_neighbors):\n",
    "    global N\n",
    "    SX = np.array_split(data, kfold)\n",
    "    SY = np.array_split(labels, kfold)\n",
    "    \n",
    "    p_fold_error = np.zeros(kfold)\n",
    "    \n",
    "    for p in range(kfold):\n",
    "        # Computing test data for fold p\n",
    "        test_data = SX[p]\n",
    "        test_labels = SY[p]\n",
    "        # Computing training data for fold p\n",
    "        training_folds = [i for i in range(kfold) if i != p]\n",
    "        training_data = SX[training_folds[0]]\n",
    "        training_labels = SY[training_folds[0]]\n",
    "        for i in range(1, len(training_folds)): \n",
    "            training_data = np.concatenate((training_data, SX[training_folds[i]]), axis=0)\n",
    "            training_labels = np.concatenate((training_labels, SY[training_folds[i]]), axis=0)\n",
    "        # Computing average error for fold p and storing it in the p_fold_error numpy array\n",
    "        p_fold_error[p] = compute_one_fold_error(test_data, test_labels, training_data, training_labels, K_nearest_neighbors)\n",
    "        print('Error in Fold', (p+1), 'is', p_fold_error[p])\n",
    "    \n",
    "    return np.average(p_fold_error)"
   ]
  },
  {
   "cell_type": "code",
   "execution_count": 21,
   "metadata": {},
   "outputs": [],
   "source": [
    "import time"
   ]
  },
  {
   "cell_type": "code",
   "execution_count": 22,
   "metadata": {},
   "outputs": [],
   "source": [
    "avg_error = [0, 0, 0, 0]\n",
    "time_taken = [0, 0, 0, 0]"
   ]
  },
  {
   "cell_type": "markdown",
   "metadata": {},
   "source": [
    "#### Analysis for $K = 1$"
   ]
  },
  {
   "cell_type": "code",
   "execution_count": 23,
   "metadata": {},
   "outputs": [
    {
     "name": "stdout",
     "output_type": "stream",
     "text": [
      "Average error of K Nearest Neighbor Classifier using 10 Fold Cross-Validation Method when K = 1\n",
      "\n",
      "Error in Fold 1 is 0.054\n",
      "Error in Fold 2 is 0.064\n",
      "Error in Fold 3 is 0.068\n",
      "Error in Fold 4 is 0.074\n",
      "Error in Fold 5 is 0.058\n",
      "Error in Fold 6 is 0.07\n",
      "Error in Fold 7 is 0.05\n",
      "Error in Fold 8 is 0.082\n",
      "Error in Fold 9 is 0.062\n",
      "Error in Fold 10 is 0.062\n",
      "\n",
      "Average Error when K NN = 1: 0.064\n",
      "Time taken to compute average K NN error when K = 1: 219.3  seconds.\n"
     ]
    }
   ],
   "source": [
    "print('Average error of K Nearest Neighbor Classifier using 10 Fold Cross-Validation Method when K = 1\\n')\n",
    "t0 = time.time()\n",
    "avg_error[0] = compute_average_error_for_K_nearest_neighbor_classifier(X_tilde, Y, 10, 1)\n",
    "time_taken[0] = time.time() - t0\n",
    "print('\\nAverage Error when K NN = 1:', round(avg_error[0], 3))\n",
    "print('Time taken to compute average K NN error when K = 1:', round(time_taken[0], 2), ' seconds.')"
   ]
  },
  {
   "cell_type": "markdown",
   "metadata": {},
   "source": [
    "#### Analysis for $K = 3$"
   ]
  },
  {
   "cell_type": "code",
   "execution_count": 24,
   "metadata": {},
   "outputs": [
    {
     "name": "stdout",
     "output_type": "stream",
     "text": [
      "Average error of K Nearest Neighbor Classifier using 10 Fold Cross-Validation Method when K = 3\n",
      "\n",
      "Error in Fold 1 is 0.054\n",
      "Error in Fold 2 is 0.06\n",
      "Error in Fold 3 is 0.064\n",
      "Error in Fold 4 is 0.064\n",
      "Error in Fold 5 is 0.06\n",
      "Error in Fold 6 is 0.068\n",
      "Error in Fold 7 is 0.06\n",
      "Error in Fold 8 is 0.078\n",
      "Error in Fold 9 is 0.062\n",
      "Error in Fold 10 is 0.058\n",
      "\n",
      "Average Error when K NN = 3: 0.063\n",
      "Time taken to compute average K NN error when K = 3: 237.54  seconds.\n"
     ]
    }
   ],
   "source": [
    "print('Average error of K Nearest Neighbor Classifier using 10 Fold Cross-Validation Method when K = 3\\n')\n",
    "t0 = time.time()\n",
    "avg_error[1] = compute_average_error_for_K_nearest_neighbor_classifier(X_tilde, Y, 10, 3)\n",
    "time_taken[1] = time.time() - t0\n",
    "print('\\nAverage Error when K NN = 3:', round(avg_error[1], 3))\n",
    "print('Time taken to compute average K NN error when K = 3:', round(time_taken[1], 2), ' seconds.')"
   ]
  },
  {
   "cell_type": "markdown",
   "metadata": {},
   "source": [
    "#### Analysis for $K = 5$"
   ]
  },
  {
   "cell_type": "code",
   "execution_count": 25,
   "metadata": {},
   "outputs": [
    {
     "name": "stdout",
     "output_type": "stream",
     "text": [
      "Average error of K Nearest Neighbor Classifier using 10 Fold Cross-Validation Method when K = 5\n",
      "\n",
      "Error in Fold 1 is 0.052\n",
      "Error in Fold 2 is 0.07\n",
      "Error in Fold 3 is 0.066\n",
      "Error in Fold 4 is 0.07\n",
      "Error in Fold 5 is 0.06\n",
      "Error in Fold 6 is 0.066\n",
      "Error in Fold 7 is 0.062\n",
      "Error in Fold 8 is 0.078\n",
      "Error in Fold 9 is 0.058\n",
      "Error in Fold 10 is 0.07\n",
      "\n",
      "Average Error when K NN = 5: 0.065\n",
      "Time taken to compute average K NN error when K = 5: 242.44  seconds.\n"
     ]
    }
   ],
   "source": [
    "print('Average error of K Nearest Neighbor Classifier using 10 Fold Cross-Validation Method when K = 5\\n')\n",
    "t0 = time.time()\n",
    "avg_error[2] = compute_average_error_for_K_nearest_neighbor_classifier(X_tilde, Y, 10, 5)\n",
    "time_taken[2] = time.time() - t0\n",
    "print('\\nAverage Error when K NN = 5:', round(avg_error[2], 3))\n",
    "print('Time taken to compute average K NN error when K = 5:', round(time_taken[2], 2), ' seconds.')"
   ]
  },
  {
   "cell_type": "markdown",
   "metadata": {},
   "source": [
    "#### Analysis for $K = 7$"
   ]
  },
  {
   "cell_type": "code",
   "execution_count": 26,
   "metadata": {},
   "outputs": [
    {
     "name": "stdout",
     "output_type": "stream",
     "text": [
      "Average error of K Nearest Neighbor Classifier using 10 Fold Cross-Validation Method when K = 7\n",
      "\n",
      "Error in Fold 1 is 0.06\n",
      "Error in Fold 2 is 0.074\n",
      "Error in Fold 3 is 0.07\n",
      "Error in Fold 4 is 0.066\n",
      "Error in Fold 5 is 0.056\n",
      "Error in Fold 6 is 0.058\n",
      "Error in Fold 7 is 0.076\n",
      "Error in Fold 8 is 0.078\n",
      "Error in Fold 9 is 0.052\n",
      "Error in Fold 10 is 0.08\n",
      "\n",
      "Average Error when K NN = 7: 0.067\n",
      "Time taken to compute average K NN error when K = 7: 229.67  seconds.\n"
     ]
    }
   ],
   "source": [
    "print('Average error of K Nearest Neighbor Classifier using 10 Fold Cross-Validation Method when K = 7\\n')\n",
    "t0 = time.time()\n",
    "avg_error[3] = compute_average_error_for_K_nearest_neighbor_classifier(X_tilde, Y, 10, 7)\n",
    "time_taken[3] = time.time() - t0\n",
    "print('\\nAverage Error when K NN = 7:', round(avg_error[3], 3))\n",
    "print('Time taken to compute average K NN error when K = 7:', round(time_taken[3], 2), ' seconds.')"
   ]
  },
  {
   "cell_type": "markdown",
   "metadata": {},
   "source": [
    "#### Average Error and Best $K$ on this data"
   ]
  },
  {
   "cell_type": "code",
   "execution_count": 27,
   "metadata": {},
   "outputs": [
    {
     "data": {
      "image/png": "[encoded data removed]",
      "text/plain": [
       "<Figure size 432x288 with 1 Axes>"
      ]
     },
     "metadata": {
      "needs_background": "light"
     },
     "output_type": "display_data"
    },
    {
     "data": {
      "image/png": "[encoded data removed]",
      "text/plain": [
       "<Figure size 432x288 with 1 Axes>"
      ]
     },
     "metadata": {
      "needs_background": "light"
     },
     "output_type": "display_data"
    }
   ],
   "source": [
    "# Plotting Average Error on different values of K\n",
    "from scipy.interpolate import make_interp_spline, BSpline\n",
    "\n",
    "K_NN = [1, 3, 5, 7]\n",
    "plt.plot(K_NN, avg_error)\n",
    "plt.title('Error at different K Nearest Neighbors')\n",
    "plt.xlabel('K Nearest Neighbors')\n",
    "plt.ylabel('Error(%)')\n",
    "plt.show()\n",
    "\n",
    "# Smoothing Effect\n",
    "xnew = np.linspace(min(K_NN), max(K_NN), 300)\n",
    "spl = make_interp_spline(K_NN, avg_error, k=3)\n",
    "error_smooth = spl(xnew)\n",
    "plt.plot(xnew, error_smooth)\n",
    "plt.title('Error at different K Nearest Neighbors')\n",
    "plt.xlabel('K Nearest Neighbors')\n",
    "plt.ylabel('Error(%)')\n",
    "plt.show()"
   ]
  },
  {
   "cell_type": "code",
   "execution_count": 28,
   "metadata": {},
   "outputs": [
    {
     "data": {
      "image/png": "[encoded data removed]",
      "text/plain": [
       "<Figure size 432x288 with 1 Axes>"
      ]
     },
     "metadata": {
      "needs_background": "light"
     },
     "output_type": "display_data"
    },
    {
     "data": {
      "image/png": "[encoded data removed]",
      "text/plain": [
       "<Figure size 432x288 with 1 Axes>"
      ]
     },
     "metadata": {
      "needs_background": "light"
     },
     "output_type": "display_data"
    }
   ],
   "source": [
    "# Plotting Time Taken to classify at different values of K\n",
    "plt.plot(K_NN, time_taken)\n",
    "plt.title('Time Taken to classify a sample at different K Nearest Neighbors')\n",
    "plt.xlabel('K Nearest Neighbors')\n",
    "plt.ylabel('Time (seconds)')\n",
    "plt.show()\n",
    "\n",
    "# Smoothing Effect\n",
    "xnew = np.linspace(min(K_NN), max(K_NN), 300)\n",
    "spl = make_interp_spline(K_NN, time_taken, k=3)\n",
    "time_smooth = spl(xnew)\n",
    "plt.plot(xnew, time_smooth)\n",
    "plt.title('Time Taken to classify a sample at different K Nearest Neighbors')\n",
    "plt.xlabel('K Nearest Neighbors')\n",
    "plt.ylabel('Time (seconds)')\n",
    "plt.show() "
   ]
  },
  {
   "cell_type": "markdown",
   "metadata": {},
   "source": [
    "The value of K that yields the most accurate results on this Dataset is ***K = 3*** Nearest Neighbors. It is **93.7% accurate** on this dataset. The drawback is that this process is computationally expensive and requires time to make a decision."
   ]
  },
  {
   "cell_type": "code",
   "execution_count": null,
   "metadata": {},
   "outputs": [],
   "source": []
  }
 ],
 "metadata": {
  "kernelspec": {
   "display_name": "Python 3",
   "language": "python",
   "name": "python3"
  },
  "language_info": {
   "codemirror_mode": {
    "name": "ipython",
    "version": 3
   },
   "file_extension": ".py",
   "mimetype": "text/x-python",
   "name": "python",
   "nbconvert_exporter": "python",
   "pygments_lexer": "ipython3",
   "version": "3.7.3"
  }
 },
 "nbformat": 4,
 "nbformat_minor": 4
}
