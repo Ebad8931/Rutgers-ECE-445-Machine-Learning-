{
 "cells": [
  {
   "cell_type": "markdown",
   "metadata": {},
   "source": [
    "### **Digit Classification Problem - Overview**"
   ]
  },
  {
   "cell_type": "markdown",
   "metadata": {},
   "source": [
    "#### Initial Impoting Statements"
   ]
  },
  {
   "cell_type": "code",
   "execution_count": 1,
   "metadata": {},
   "outputs": [],
   "source": [
    "# Notebook Preamble\n",
    "import numpy as np\n",
    "import pandas as pd\n",
    "from matplotlib import pyplot as plt\n",
    "from IPython.display import display, Latex"
   ]
  },
  {
   "cell_type": "markdown",
   "metadata": {},
   "source": [
    "#### Loading Data"
   ]
  },
  {
   "cell_type": "code",
   "execution_count": 2,
   "metadata": {},
   "outputs": [
    {
     "name": "stdout",
     "output_type": "stream",
     "text": [
      "Dimensions (5000, 785)\n",
      "[RangeIndex(start=0, stop=5000, step=1), Index(['label', 'pixel0', 'pixel1', 'pixel2', 'pixel3', 'pixel4', 'pixel5',\n",
      "       'pixel6', 'pixel7', 'pixel8',\n",
      "       ...\n",
      "       'pixel774', 'pixel775', 'pixel776', 'pixel777', 'pixel778', 'pixel779',\n",
      "       'pixel780', 'pixel781', 'pixel782', 'pixel783'],\n",
      "      dtype='object', length=785)]\n"
     ]
    }
   ],
   "source": [
    "# Loading data for Digit Recognizer Problem\n",
    "training_set = pd.read_csv(\"DigitRecognizer.csv\", nrows=5000)\n",
    "# Summary of Dataframe\n",
    "print('Dimensions', training_set.shape) \n",
    "print(training_set.axes)"
   ]
  },
  {
   "cell_type": "markdown",
   "metadata": {},
   "source": [
    "- The data file DigitRecognizer.csv contains gray-scale images of hand-drawn digits, from zero through nine.\n",
    "- Each image is 28 pixels in height and 28 pixels in width, for a total of 784 pixels in total. \n",
    "- The data set has 785 columns and 42K images. The first column, called \"label\", is the digit that was drawn by the user. The rest of the columns contain the pixel-values of the associated image. "
   ]
  },
  {
   "cell_type": "code",
   "execution_count": 3,
   "metadata": {},
   "outputs": [],
   "source": [
    "N = 5000 \n",
    "X = training_set.loc[:, 'pixel0':'pixel783']\n",
    "Y = training_set.loc[:, 'label']"
   ]
  },
  {
   "cell_type": "code",
   "execution_count": 4,
   "metadata": {},
   "outputs": [
    {
     "name": "stdout",
     "output_type": "stream",
     "text": [
      "X - Dimensions: (5000, 784) , Type: <class 'pandas.core.frame.DataFrame'>\n",
      "Y- Dimensions: (5000,) , Type: <class 'pandas.core.series.Series'>\n"
     ]
    }
   ],
   "source": [
    "print('X - Dimensions:', X.shape, ', Type:', type(X))\n",
    "print('Y- Dimensions:', Y.shape, ', Type:', type(Y))"
   ]
  },
  {
   "cell_type": "markdown",
   "metadata": {},
   "source": [
    "#### Displaying an Image and Label from the Dataset"
   ]
  },
  {
   "cell_type": "code",
   "execution_count": 5,
   "metadata": {},
   "outputs": [
    {
     "data": {
      "text/plain": [
       "<Figure size 432x288 with 0 Axes>"
      ]
     },
     "metadata": {},
     "output_type": "display_data"
    },
    {
     "data": {
      "image/png": "[encoded data removed]",
      "text/plain": [
       "<Figure size 288x288 with 1 Axes>"
      ]
     },
     "metadata": {
      "needs_background": "light"
     },
     "output_type": "display_data"
    },
    {
     "name": "stdout",
     "output_type": "stream",
     "text": [
      "Lable for this image: 4\n"
     ]
    }
   ],
   "source": [
    "plt.gray()\n",
    "plt.matshow(np.array(X.loc[3,:]).reshape((28,28)))\n",
    "plt.show()\n",
    "print('Lable for this image:', Y[3])"
   ]
  },
  {
   "cell_type": "markdown",
   "metadata": {},
   "source": [
    "---"
   ]
  },
  {
   "cell_type": "markdown",
   "metadata": {},
   "source": [
    "### **Digit Classification Problem - Preprocessing and Dimensionality Reduction**"
   ]
  },
  {
   "cell_type": "markdown",
   "metadata": {},
   "source": [
    "#### Standardizing Data to zero mean"
   ]
  },
  {
   "cell_type": "code",
   "execution_count": 6,
   "metadata": {},
   "outputs": [],
   "source": [
    "from sklearn import preprocessing as sklpp\n",
    "from sklearn import decomposition as skldecomp"
   ]
  },
  {
   "cell_type": "code",
   "execution_count": 7,
   "metadata": {},
   "outputs": [],
   "source": [
    "# Standardizing mean using StandardScaler() object\n",
    "mean_datascaler = sklpp.StandardScaler(with_mean=True, with_std=False)\n",
    "X_centered = mean_datascaler.fit_transform(X)\n",
    "mean_vector = mean_datascaler.mean_"
   ]
  },
  {
   "cell_type": "code",
   "execution_count": 8,
   "metadata": {},
   "outputs": [
    {
     "data": {
      "text/plain": [
       "<Figure size 432x288 with 0 Axes>"
      ]
     },
     "metadata": {},
     "output_type": "display_data"
    },
    {
     "data": {
      "image/png": "[encoded data removed]",
      "text/plain": [
       "<Figure size 288x288 with 1 Axes>"
      ]
     },
     "metadata": {
      "needs_background": "light"
     },
     "output_type": "display_data"
    },
    {
     "name": "stdout",
     "output_type": "stream",
     "text": [
      "Lable for this image: 4\n"
     ]
    }
   ],
   "source": [
    "# Displaying the same image after data is centered\n",
    "plt.gray()\n",
    "plt.matshow(X_centered[3,:].reshape((28,28)))\n",
    "plt.show()\n",
    "print('Lable for this image:', Y[3])"
   ]
  },
  {
   "cell_type": "markdown",
   "metadata": {},
   "source": [
    "#### Principal Component Analysis"
   ]
  },
  {
   "cell_type": "code",
   "execution_count": 9,
   "metadata": {},
   "outputs": [
    {
     "data": {
      "image/png": "[encoded data removed]",
      "text/plain": [
       "<Figure size 432x288 with 1 Axes>"
      ]
     },
     "metadata": {
      "needs_background": "light"
     },
     "output_type": "display_data"
    }
   ],
   "source": [
    "# creating an instance of the PCA() object\n",
    "pca = skldecomp.PCA().fit(X_centered)\n",
    "plt.figure()\n",
    "plt.plot(pca.explained_variance_ratio_)\n",
    "plt.xlabel('Number of Components')\n",
    "plt.ylabel('Variance (%)') #for each component\n",
    "plt.title('Scree Plot for PCA')\n",
    "plt.show()"
   ]
  },
  {
   "cell_type": "markdown",
   "metadata": {},
   "source": [
    "From the Scree Plot, it can be seen that most of the variance is captured by less than first 100 principal components, i.e $k < 100$."
   ]
  },
  {
   "cell_type": "code",
   "execution_count": 10,
   "metadata": {},
   "outputs": [
    {
     "data": {
      "text/latex": [
       "The value of the integer $k$ retaining 90% information is $k$ = 85."
      ],
      "text/plain": [
       "<IPython.core.display.Latex object>"
      ]
     },
     "metadata": {},
     "output_type": "display_data"
    }
   ],
   "source": [
    "# creating an instance of the PCA() object that retains 90% information\n",
    "data_pca = skldecomp.PCA(n_components=0.90, svd_solver='full') \n",
    "# using the fit_transform API to simultaneously compute PCA features and directions \n",
    "features_X = data_pca.fit_transform(X_centered) \n",
    "# printing the value of k, as returned by sklearn \n",
    "display(Latex(r'The value of the integer $k$ retaining 90% information is $k$ = {}.'.format(data_pca.n_components_)))"
   ]
  },
  {
   "cell_type": "markdown",
   "metadata": {},
   "source": [
    "#### Reconstruction of a sample image from Top $k$ Principal components"
   ]
  },
  {
   "cell_type": "code",
   "execution_count": 11,
   "metadata": {},
   "outputs": [],
   "source": [
    "# Reconstructing the image with k = 85\n",
    "M = data_pca.components_[0:85,:]\n",
    "X_tilde = X_centered@M.T\n",
    "X_hat = mean_datascaler.inverse_transform(X_tilde@M)"
   ]
  },
  {
   "cell_type": "code",
   "execution_count": 12,
   "metadata": {},
   "outputs": [
    {
     "data": {
      "text/plain": [
       "<Figure size 432x288 with 0 Axes>"
      ]
     },
     "metadata": {},
     "output_type": "display_data"
    },
    {
     "data": {
      "image/png": "[encoded data removed]",
      "text/plain": [
       "<Figure size 288x288 with 1 Axes>"
      ]
     },
     "metadata": {
      "needs_background": "light"
     },
     "output_type": "display_data"
    },
    {
     "name": "stdout",
     "output_type": "stream",
     "text": [
      "label for this image: 4\n"
     ]
    }
   ],
   "source": [
    "plt.gray() \n",
    "plt.matshow(X_hat[3,:].reshape((28,28))) \n",
    "plt.show()\n",
    "print('label for this image:', Y[3])"
   ]
  },
  {
   "cell_type": "markdown",
   "metadata": {},
   "source": [
    "##### Scree Plot for Top $k$ Principal Components"
   ]
  },
  {
   "cell_type": "code",
   "execution_count": 13,
   "metadata": {},
   "outputs": [
    {
     "data": {
      "image/png": "[encoded data removed]",
      "text/plain": [
       "<Figure size 432x288 with 1 Axes>"
      ]
     },
     "metadata": {
      "needs_background": "light"
     },
     "output_type": "display_data"
    }
   ],
   "source": [
    "energy_captured = data_pca.explained_variance_ratio_\n",
    "principal_components = [i for i in range(85)]\n",
    "plt.bar(principal_components, energy_captured)\n",
    "plt.title('Scree Plot for first 85 Principal Components')\n",
    "plt.xlabel('Principal Components')\n",
    "plt.ylabel('Energy Captured')\n",
    "plt.show()"
   ]
  },
  {
   "cell_type": "markdown",
   "metadata": {},
   "source": [
    "The chosen value for $k$ is $85$ since it captures 90% variability in the data."
   ]
  },
  {
   "cell_type": "code",
   "execution_count": 14,
   "metadata": {},
   "outputs": [
    {
     "name": "stdout",
     "output_type": "stream",
     "text": [
      "Independent Features: (5000, 85) , X_tilde Type: <class 'numpy.ndarray'>\n",
      "Corresponding Labels: (5000,) , Y Type: <class 'numpy.ndarray'>\n"
     ]
    }
   ],
   "source": [
    "# Modified data sets after Dimensionality Reduction\n",
    "print('Independent Features:', X_tilde.shape, ', X_tilde Type:', type(X_tilde))\n",
    "Y = np.array(Y)\n",
    "print('Corresponding Labels:', Y.shape, ', Y Type:', type(Y))"
   ]
  },
  {
   "cell_type": "markdown",
   "metadata": {},
   "source": [
    "-----"
   ]
  },
  {
   "cell_type": "markdown",
   "metadata": {},
   "source": [
    "### **Digit Classification - Naive Bayes' Approach**"
   ]
  },
  {
   "cell_type": "markdown",
   "metadata": {},
   "source": [
    "In Naive Bayes' approach to classifation, the x components are assumed to be independent from each other. "
   ]
  },
  {
   "cell_type": "markdown",
   "metadata": {},
   "source": [
    "#### Dataframe of Principal Components and corresponding Labels "
   ]
  },
  {
   "cell_type": "code",
   "execution_count": 15,
   "metadata": {},
   "outputs": [],
   "source": [
    "# Combining PCA features and corresponding Labels in a Single Pandas DataFrame.\n",
    "df_features = pd.DataFrame(X_tilde, columns=['pca{}'.format(i+1) for i in range(85)])\n",
    "df_labels = pd.DataFrame(Y, columns=['label'])\n",
    "df = pd.concat([df_features, df_labels], axis=1)"
   ]
  },
  {
   "cell_type": "code",
   "execution_count": 16,
   "metadata": {},
   "outputs": [
    {
     "name": "stdout",
     "output_type": "stream",
     "text": [
      "(5000, 86)\n",
      "[RangeIndex(start=0, stop=5000, step=1), Index(['pca1', 'pca2', 'pca3', 'pca4', 'pca5', 'pca6', 'pca7', 'pca8', 'pca9',\n",
      "       'pca10', 'pca11', 'pca12', 'pca13', 'pca14', 'pca15', 'pca16', 'pca17',\n",
      "       'pca18', 'pca19', 'pca20', 'pca21', 'pca22', 'pca23', 'pca24', 'pca25',\n",
      "       'pca26', 'pca27', 'pca28', 'pca29', 'pca30', 'pca31', 'pca32', 'pca33',\n",
      "       'pca34', 'pca35', 'pca36', 'pca37', 'pca38', 'pca39', 'pca40', 'pca41',\n",
      "       'pca42', 'pca43', 'pca44', 'pca45', 'pca46', 'pca47', 'pca48', 'pca49',\n",
      "       'pca50', 'pca51', 'pca52', 'pca53', 'pca54', 'pca55', 'pca56', 'pca57',\n",
      "       'pca58', 'pca59', 'pca60', 'pca61', 'pca62', 'pca63', 'pca64', 'pca65',\n",
      "       'pca66', 'pca67', 'pca68', 'pca69', 'pca70', 'pca71', 'pca72', 'pca73',\n",
      "       'pca74', 'pca75', 'pca76', 'pca77', 'pca78', 'pca79', 'pca80', 'pca81',\n",
      "       'pca82', 'pca83', 'pca84', 'pca85', 'label'],\n",
      "      dtype='object')]\n",
      "pca1     float64\n",
      "pca2     float64\n",
      "pca3     float64\n",
      "pca4     float64\n",
      "pca5     float64\n",
      "pca6     float64\n",
      "pca7     float64\n",
      "pca8     float64\n",
      "pca9     float64\n",
      "pca10    float64\n",
      "pca11    float64\n",
      "pca12    float64\n",
      "pca13    float64\n",
      "pca14    float64\n",
      "pca15    float64\n",
      "pca16    float64\n",
      "pca17    float64\n",
      "pca18    float64\n",
      "pca19    float64\n",
      "pca20    float64\n",
      "pca21    float64\n",
      "pca22    float64\n",
      "pca23    float64\n",
      "pca24    float64\n",
      "pca25    float64\n",
      "pca26    float64\n",
      "pca27    float64\n",
      "pca28    float64\n",
      "pca29    float64\n",
      "pca30    float64\n",
      "          ...   \n",
      "pca57    float64\n",
      "pca58    float64\n",
      "pca59    float64\n",
      "pca60    float64\n",
      "pca61    float64\n",
      "pca62    float64\n",
      "pca63    float64\n",
      "pca64    float64\n",
      "pca65    float64\n",
      "pca66    float64\n",
      "pca67    float64\n",
      "pca68    float64\n",
      "pca69    float64\n",
      "pca70    float64\n",
      "pca71    float64\n",
      "pca72    float64\n",
      "pca73    float64\n",
      "pca74    float64\n",
      "pca75    float64\n",
      "pca76    float64\n",
      "pca77    float64\n",
      "pca78    float64\n",
      "pca79    float64\n",
      "pca80    float64\n",
      "pca81    float64\n",
      "pca82    float64\n",
      "pca83    float64\n",
      "pca84    float64\n",
      "pca85    float64\n",
      "label      int64\n",
      "Length: 86, dtype: object\n"
     ]
    }
   ],
   "source": [
    "# Summarizing Dataframe\n",
    "print(df.shape)\n",
    "print(df.axes)\n",
    "print(df.dtypes)"
   ]
  },
  {
   "cell_type": "markdown",
   "metadata": {},
   "source": [
    "#### Random Partition of Dataframe into 70:30 ratio as Training and Test Datasets"
   ]
  },
  {
   "cell_type": "code",
   "execution_count": 17,
   "metadata": {},
   "outputs": [
    {
     "name": "stdout",
     "output_type": "stream",
     "text": [
      "Dimensions of Training Data:  (3500, 86)\n",
      "Dimensions of Test Data:  (1500, 86)\n"
     ]
    }
   ],
   "source": [
    "from sklearn import model_selection as ms\n",
    "training_data, test_data = ms.train_test_split(df, test_size=0.3)\n",
    "print('Dimensions of Training Data: ', training_data.shape)\n",
    "print('Dimensions of Test Data: ', test_data.shape)"
   ]
  },
  {
   "cell_type": "markdown",
   "metadata": {},
   "source": [
    "Let n be the number of samples in Training data and m be the number of samples in Test data."
   ]
  },
  {
   "cell_type": "code",
   "execution_count": 18,
   "metadata": {},
   "outputs": [],
   "source": [
    "n = 3500\n",
    "m = 1500"
   ]
  },
  {
   "cell_type": "markdown",
   "metadata": {},
   "source": [
    "#### Splitting Training Data w.r.t. Class Labels "
   ]
  },
  {
   "cell_type": "code",
   "execution_count": 19,
   "metadata": {},
   "outputs": [],
   "source": [
    "df_label = [None]*10\n",
    "for i in range(10):\n",
    "    df_label[i] = training_data['label'] == i"
   ]
  },
  {
   "cell_type": "code",
   "execution_count": 20,
   "metadata": {},
   "outputs": [
    {
     "name": "stdout",
     "output_type": "stream",
     "text": [
      "Label: 0 - Dimensions in Training Data: (345, 86)\n",
      "Label: 1 - Dimensions in Training Data: (381, 86)\n",
      "Label: 2 - Dimensions in Training Data: (393, 86)\n",
      "Label: 3 - Dimensions in Training Data: (330, 86)\n",
      "Label: 4 - Dimensions in Training Data: (350, 86)\n",
      "Label: 5 - Dimensions in Training Data: (292, 86)\n",
      "Label: 6 - Dimensions in Training Data: (369, 86)\n",
      "Label: 7 - Dimensions in Training Data: (362, 86)\n",
      "Label: 8 - Dimensions in Training Data: (329, 86)\n",
      "Label: 9 - Dimensions in Training Data: (349, 86)\n"
     ]
    }
   ],
   "source": [
    "# Summary of Training Dataset w.r.t classes 0,1,2,...,9\n",
    "for i in range(10):\n",
    "    print('Label:', i, '- Dimensions in Training Data:', training_data[df_label[i]].shape)"
   ]
  },
  {
   "cell_type": "markdown",
   "metadata": {},
   "source": [
    "#### Prior Probabilities"
   ]
  },
  {
   "cell_type": "code",
   "execution_count": 21,
   "metadata": {},
   "outputs": [
    {
     "name": "stdout",
     "output_type": "stream",
     "text": [
      "Prior[0] = 0.099\n",
      "Prior[1] = 0.109\n",
      "Prior[2] = 0.112\n",
      "Prior[3] = 0.094\n",
      "Prior[4] = 0.1\n",
      "Prior[5] = 0.083\n",
      "Prior[6] = 0.105\n",
      "Prior[7] = 0.103\n",
      "Prior[8] = 0.094\n",
      "Prior[9] = 0.1\n"
     ]
    }
   ],
   "source": [
    "# Computing Prior Probabilities of each class 0,1,2,...,9\n",
    "prior = [None]*10\n",
    "for i in range(10):\n",
    "    prior[i] = len(training_data[df_label[i]])/n\n",
    "    print('Prior['+str(i)+'] =', round(prior[i], 3))"
   ]
  },
  {
   "cell_type": "markdown",
   "metadata": {},
   "source": [
    "#### Mean Vector and Covariance Matrix of each class"
   ]
  },
  {
   "cell_type": "code",
   "execution_count": 22,
   "metadata": {},
   "outputs": [
    {
     "name": "stdout",
     "output_type": "stream",
     "text": [
      "Mean Vector of class 0 Dimensions and type: (85,) <class 'numpy.ndarray'>\n"
     ]
    }
   ],
   "source": [
    "# Computing Mean Vectors for each class 0,1,2,...,9\n",
    "mean_vector = [None]*10\n",
    "for i in range(10):\n",
    "    class_i_samples = training_data[df_label[i]]\n",
    "    mean_vector[i] = np.array(class_i_samples.loc[:,'pca1':'pca85'].mean())\n",
    "\n",
    "print('Mean Vector of class 0 Dimensions and type:', mean_vector[0].shape, type(mean_vector[0]))"
   ]
  },
  {
   "cell_type": "code",
   "execution_count": 23,
   "metadata": {},
   "outputs": [
    {
     "name": "stdout",
     "output_type": "stream",
     "text": [
      "Covariance Matrix of class 0 Dimensions and type: (85, 85) <class 'numpy.ndarray'>\n",
      "[[220307.85086276      0.              0.         ...      0.\n",
      "       0.              0.        ]\n",
      " [     0.          60618.88890642      0.         ...      0.\n",
      "       0.              0.        ]\n",
      " [     0.              0.         217631.21660403 ...      0.\n",
      "       0.              0.        ]\n",
      " ...\n",
      " [     0.              0.              0.         ...   3783.33603245\n",
      "       0.              0.        ]\n",
      " [     0.              0.              0.         ...      0.\n",
      "    3942.92176349      0.        ]\n",
      " [     0.              0.              0.         ...      0.\n",
      "       0.           5105.93956091]]\n"
     ]
    }
   ],
   "source": [
    "# Computing Covariance Matrix for each class 0,1,2,...,9\n",
    "covariance_matrix = [None]*10\n",
    "for i in range(10):\n",
    "    class_i_samples = training_data[df_label[i]]\n",
    "    variance = class_i_samples.loc[:,'pca1':'pca85'].var()\n",
    "    covariance_matrix[i] = np.diag(variance)\n",
    "    \n",
    "print('Covariance Matrix of class 0 Dimensions and type:', covariance_matrix[0].shape, type(covariance_matrix[0]))\n",
    "print(covariance_matrix[0])"
   ]
  },
  {
   "cell_type": "markdown",
   "metadata": {},
   "source": [
    "#### Likelihood Function of each class"
   ]
  },
  {
   "cell_type": "markdown",
   "metadata": {},
   "source": [
    "The Likelihood function of each class is assumed to be a Multivariate Gaussian Distribution.   "
   ]
  },
  {
   "cell_type": "code",
   "execution_count": 24,
   "metadata": {},
   "outputs": [],
   "source": [
    "# Computing multivariate normal distribution for each class 0,1,2,...,9\n",
    "from scipy.stats import multivariate_normal as mvn\n",
    "likelihood = [None]*10\n",
    "for i in range(10):\n",
    "    likelihood[i] = mvn(mean=mean_vector[i], cov=covariance_matrix[i])"
   ]
  },
  {
   "cell_type": "markdown",
   "metadata": {},
   "source": [
    "#### Prediction of Label on a Test Sample"
   ]
  },
  {
   "cell_type": "code",
   "execution_count": 25,
   "metadata": {},
   "outputs": [
    {
     "data": {
      "text/plain": [
       "<Figure size 432x288 with 0 Axes>"
      ]
     },
     "metadata": {},
     "output_type": "display_data"
    },
    {
     "data": {
      "image/png": "[encoded data removed]",
      "text/plain": [
       "<Figure size 288x288 with 1 Axes>"
      ]
     },
     "metadata": {
      "needs_background": "light"
     },
     "output_type": "display_data"
    },
    {
     "name": "stdout",
     "output_type": "stream",
     "text": [
      "Label for this sample image: 1\n"
     ]
    }
   ],
   "source": [
    "# First Image in the test data\n",
    "sample_image = test_data.iloc[0]\n",
    "sample_image_label = int(sample_image.loc['label'])\n",
    "sample_image_features = np.array(sample_image.loc['pca1':'pca85'])\n",
    "sample_image = mean_datascaler.inverse_transform(sample_image_features@M)\n",
    "plt.gray()\n",
    "plt.matshow(sample_image.reshape((28,28)))\n",
    "plt.show()\n",
    "print('Label for this sample image:', sample_image_label)"
   ]
  },
  {
   "cell_type": "code",
   "execution_count": 26,
   "metadata": {},
   "outputs": [
    {
     "name": "stdout",
     "output_type": "stream",
     "text": [
      "Probability[sample image is 0] = 7.50449675721481e-228\n",
      "Probability[sample image is 1] = 2.1581016731099814e-216\n",
      "Probability[sample image is 2] = 1.2010396460431418e-228\n",
      "Probability[sample image is 3] = 7.678118633921868e-227\n",
      "Probability[sample image is 4] = 8.245148496534741e-230\n",
      "Probability[sample image is 5] = 3.617504710096549e-228\n",
      "Probability[sample image is 6] = 1.430871294289856e-227\n",
      "Probability[sample image is 7] = 5.2628019977012e-226\n",
      "Probability[sample image is 8] = 1.8710322572823114e-227\n",
      "Probability[sample image is 9] = 1.071759130198338e-226\n"
     ]
    },
    {
     "data": {
      "text/latex": [
       "\n",
       "Based on computed Probabilities, the digit is predicted to be $Y = 1$."
      ],
      "text/plain": [
       "<IPython.core.display.Latex object>"
      ]
     },
     "metadata": {},
     "output_type": "display_data"
    }
   ],
   "source": [
    "# Based on the Image Features, computing the Probabilities that it belongs to a respective class\n",
    "max_prob = 0\n",
    "for i in range(10):\n",
    "    prob = likelihood[i].pdf(sample_image_features)*prior[i]\n",
    "    print('Probability[sample image is {}] = {}'.format(i, prob))\n",
    "    if prob > max_prob:\n",
    "        max_prob = prob\n",
    "        arg_max = i  \n",
    "display(Latex('\\nBased on computed Probabilities, the digit is predicted to be $Y = {}$.'.format(arg_max)))"
   ]
  },
  {
   "cell_type": "markdown",
   "metadata": {},
   "source": [
    "The same method can be extended to predict all the other images in the test data."
   ]
  },
  {
   "cell_type": "markdown",
   "metadata": {},
   "source": [
    "#### Naive Bayes' Classification of Labels on all the Images in Test Data "
   ]
  },
  {
   "cell_type": "code",
   "execution_count": 27,
   "metadata": {},
   "outputs": [
    {
     "name": "stdout",
     "output_type": "stream",
     "text": [
      "Dimensions of test data features:  (1500, 85)\n",
      "Dimensions of test data labels:  (1500,)\n"
     ]
    }
   ],
   "source": [
    "# Testing the approach on the full test data\n",
    "test_features = np.array(test_data.loc[:, 'pca1':'pca85'])\n",
    "test_label = np.array(test_data.loc[:,'label'])\n",
    "print('Dimensions of test data features: ', test_features.shape)\n",
    "print('Dimensions of test data labels: ', test_label.shape)"
   ]
  },
  {
   "cell_type": "code",
   "execution_count": 28,
   "metadata": {},
   "outputs": [
    {
     "data": {
      "text/plain": [
       "1"
      ]
     },
     "execution_count": 28,
     "metadata": {},
     "output_type": "execute_result"
    }
   ],
   "source": [
    "def predict_digit(sample_features):\n",
    "    global Prior\n",
    "    global likelihood\n",
    "    \n",
    "    max_prob = 0\n",
    "    arg_max = np.random.randint(0,10)    # randomly assigns a class in case of an unlikely event when a sample has zero prob in all classes \n",
    "    for i in range(10):\n",
    "        prob = likelihood[i].pdf(sample_features)*prior[i]\n",
    "        if prob > max_prob:\n",
    "            max_prob = prob\n",
    "            arg_max = i \n",
    "    return arg_max\n",
    "\n",
    "predict_digit(sample_image_features)"
   ]
  },
  {
   "cell_type": "code",
   "execution_count": 29,
   "metadata": {},
   "outputs": [],
   "source": [
    "bayes_prediction = np.empty(m, int)\n",
    "for i in range(m):\n",
    "    bayes_prediction[i] = predict_digit(test_features[i])"
   ]
  },
  {
   "cell_type": "code",
   "execution_count": 30,
   "metadata": {},
   "outputs": [
    {
     "name": "stdout",
     "output_type": "stream",
     "text": [
      "True Labels: [1 8 0 5 0 9 1 5 7 5 8 6 7 4 7]\n",
      "Predictions: [1 0 5 5 0 9 1 5 7 9 8 6 3 4 7]\n"
     ]
    }
   ],
   "source": [
    "# Comparing the First 15 classification results\n",
    "print('True Labels: {}'.format(test_label[:15]))\n",
    "print('Predictions: {}'.format(bayes_prediction[:15]))"
   ]
  },
  {
   "cell_type": "markdown",
   "metadata": {},
   "source": [
    "#### Evaluation of Naive Bayes' Classifier"
   ]
  },
  {
   "cell_type": "code",
   "execution_count": 31,
   "metadata": {},
   "outputs": [
    {
     "name": "stdout",
     "output_type": "stream",
     "text": [
      "Number of correct classifications: 1301\n",
      "Number of incorrect classifications: 199\n"
     ]
    }
   ],
   "source": [
    "# Computing number of misclassifications\n",
    "correct_classification = np.equal(test_label, bayes_prediction)\n",
    "error_idx = np.argwhere(correct_classification == False)  # array of test_data indexes where incorrect classifications are made \n",
    "\n",
    "print('Number of correct classifications:', sum(correct_classification))\n",
    "print('Number of incorrect classifications:', len(error_idx))"
   ]
  },
  {
   "cell_type": "code",
   "execution_count": 32,
   "metadata": {},
   "outputs": [
    {
     "name": "stdout",
     "output_type": "stream",
     "text": [
      "Actual Label: [8]\n",
      "Output Label: [0]\n"
     ]
    },
    {
     "data": {
      "text/plain": [
       "<Figure size 432x288 with 0 Axes>"
      ]
     },
     "metadata": {},
     "output_type": "display_data"
    },
    {
     "data": {
      "image/png": "[encoded data removed]",
      "text/plain": [
       "<Figure size 288x288 with 1 Axes>"
      ]
     },
     "metadata": {
      "needs_background": "light"
     },
     "output_type": "display_data"
    },
    {
     "name": "stdout",
     "output_type": "stream",
     "text": [
      "\n",
      "Actual Label: [0]\n",
      "Output Label: [5]\n"
     ]
    },
    {
     "data": {
      "text/plain": [
       "<Figure size 432x288 with 0 Axes>"
      ]
     },
     "metadata": {},
     "output_type": "display_data"
    },
    {
     "data": {
      "image/png": "[encoded data removed]",
      "text/plain": [
       "<Figure size 288x288 with 1 Axes>"
      ]
     },
     "metadata": {
      "needs_background": "light"
     },
     "output_type": "display_data"
    },
    {
     "name": "stdout",
     "output_type": "stream",
     "text": [
      "\n",
      "Actual Label: [5]\n",
      "Output Label: [9]\n"
     ]
    },
    {
     "data": {
      "text/plain": [
       "<Figure size 432x288 with 0 Axes>"
      ]
     },
     "metadata": {},
     "output_type": "display_data"
    },
    {
     "data": {
      "image/png": "[encoded data removed]",
      "text/plain": [
       "<Figure size 288x288 with 1 Axes>"
      ]
     },
     "metadata": {
      "needs_background": "light"
     },
     "output_type": "display_data"
    },
    {
     "name": "stdout",
     "output_type": "stream",
     "text": [
      "\n"
     ]
    }
   ],
   "source": [
    "# Examples of incorrect images in \n",
    "for i in range(3):\n",
    "    x = error_idx[i]\n",
    "    print('Actual Label:', test_label[x])\n",
    "    print('Output Label:', bayes_prediction[x])\n",
    "    image = mean_datascaler.inverse_transform(test_features[x]@M)\n",
    "    plt.gray()\n",
    "    plt.matshow(image.reshape((28,28)))\n",
    "    plt.show()\n",
    "    print('')"
   ]
  },
  {
   "cell_type": "code",
   "execution_count": 33,
   "metadata": {},
   "outputs": [
    {
     "name": "stdout",
     "output_type": "stream",
     "text": [
      "The Error rate on this Naive Bayes classifier is 13.27%\n",
      "Digit classifier built using the Naive Bayes approach is 86.7 % accurate on this dataset.\n"
     ]
    }
   ],
   "source": [
    "# Error rate of the classifier\n",
    "print('The Error rate on this Naive Bayes classifier is {}%'.format(round(len(error_idx)*100/m, 2)))\n",
    "print('Digit classifier built using the Naive Bayes approach is', round(sum(correct_classification)*100/m, 1), '% accurate on this dataset.')"
   ]
  },
  {
   "cell_type": "markdown",
   "metadata": {},
   "source": [
    "---"
   ]
  },
  {
   "cell_type": "markdown",
   "metadata": {},
   "source": [
    "### **Digit Classification - Quadratic Discriminant Analysis**"
   ]
  },
  {
   "cell_type": "markdown",
   "metadata": {},
   "source": [
    "In Naive Bayes Approach, all the PCA features are considered as independent from each other. As a result, the off diagonal elements in the Covariance Matrix are zeros.  \n",
    "In Linear Discriminant Analysis, variances of all the features are assumed to be equal, which is not the case here.  \n",
    "Quadratic Discriminant Analysis is applicable when all features have different variances and it also takes into account the covariances of different features w.r.t each other.   \n",
    "***To apply QDA on the Digit classification problem, the mean vector of the classes is the same as in the Naive Bayes' classifier but the covariance matrix is recalculated for each class and consequently the likelihood functions are recomputed.***"
   ]
  },
  {
   "cell_type": "markdown",
   "metadata": {},
   "source": [
    "#### QDA Likelihood functions (Different from Naive Bayes')"
   ]
  },
  {
   "cell_type": "code",
   "execution_count": 34,
   "metadata": {},
   "outputs": [],
   "source": [
    "for i in range(10):\n",
    "    class_i_samples = training_data[df_label[i]]\n",
    "    variance = class_i_samples.loc[:,'pca1':'pca85'].var()\n",
    "    covariance_matrix[i] = np.diag(variance)"
   ]
  },
  {
   "cell_type": "code",
   "execution_count": 35,
   "metadata": {},
   "outputs": [
    {
     "name": "stdout",
     "output_type": "stream",
     "text": [
      "Covariance Matrix in QDA of class 0 Dimensions and type: (85, 85) <class 'numpy.ndarray'>\n",
      "[[ 2.20307851e+05  2.04634288e+04 -8.98692923e+03 ... -1.69393988e+02\n",
      "   5.89075026e+02 -2.28283799e+03]\n",
      " [ 2.04634288e+04  6.06188889e+04 -4.84382895e+04 ...  8.18950020e+02\n",
      "   7.30183082e+02 -1.53005074e+03]\n",
      " [-8.98692923e+03 -4.84382895e+04  2.17631217e+05 ...  1.56086011e+03\n",
      "   8.87681594e+02  3.73690175e+03]\n",
      " ...\n",
      " [-1.69393988e+02  8.18950020e+02  1.56086011e+03 ...  3.78333603e+03\n",
      "  -4.80252947e+02 -4.83994302e+02]\n",
      " [ 5.89075026e+02  7.30183082e+02  8.87681594e+02 ... -4.80252947e+02\n",
      "   3.94292176e+03 -1.02637922e+02]\n",
      " [-2.28283799e+03 -1.53005074e+03  3.73690175e+03 ... -4.83994302e+02\n",
      "  -1.02637922e+02  5.10593956e+03]]\n"
     ]
    }
   ],
   "source": [
    "# In QDA, recalculate the covariance matrix and hence the likelihood functions\n",
    "cov_matrix = [None]*10\n",
    "for i in range(10):\n",
    "    class_i_samples = training_data[df_label[i]]\n",
    "    cov_matrix[i] = class_i_samples.loc[:,'pca1':'pca85'].cov()\n",
    "    cov_matrix[i] = np.array(cov_matrix[i])\n",
    "print('Covariance Matrix in QDA of class 0 Dimensions and type:', cov_matrix[0].shape, type(cov_matrix[0]))\n",
    "print(cov_matrix[0])"
   ]
  },
  {
   "cell_type": "code",
   "execution_count": 36,
   "metadata": {},
   "outputs": [],
   "source": [
    "# Recalculating multivariate normal distribution for each class 0,1,2,...,9\n",
    "for i in range(10):\n",
    "    likelihood[i] = mvn(mean=mean_vector[i], cov=cov_matrix[i])"
   ]
  },
  {
   "cell_type": "markdown",
   "metadata": {},
   "source": [
    "#### Prediction of Label on a Test Sample"
   ]
  },
  {
   "cell_type": "code",
   "execution_count": 37,
   "metadata": {},
   "outputs": [
    {
     "data": {
      "text/plain": [
       "<Figure size 432x288 with 0 Axes>"
      ]
     },
     "metadata": {},
     "output_type": "display_data"
    },
    {
     "data": {
      "image/png": "[encoded data removed]",
      "text/plain": [
       "<Figure size 288x288 with 1 Axes>"
      ]
     },
     "metadata": {
      "needs_background": "light"
     },
     "output_type": "display_data"
    },
    {
     "name": "stdout",
     "output_type": "stream",
     "text": [
      "Label for this sample image: 1\n"
     ]
    }
   ],
   "source": [
    "# First Image in the test data\n",
    "plt.gray()\n",
    "plt.matshow(sample_image.reshape((28,28)))\n",
    "plt.show()\n",
    "print('Label for this sample image:', sample_image_label)"
   ]
  },
  {
   "cell_type": "code",
   "execution_count": 38,
   "metadata": {},
   "outputs": [
    {
     "name": "stdout",
     "output_type": "stream",
     "text": [
      "Probability[sample image is 0] = 0.0\n",
      "Probability[sample image is 1] = 3.0933956680595985e-190\n",
      "Probability[sample image is 2] = 1.8826264839233962e-251\n",
      "Probability[sample image is 3] = 8.600933585742043e-298\n",
      "Probability[sample image is 4] = 1.3092759598471284e-248\n",
      "Probability[sample image is 5] = 3.841206977571603e-290\n",
      "Probability[sample image is 6] = 0.0\n",
      "Probability[sample image is 7] = 1.032871455379088e-259\n",
      "Probability[sample image is 8] = 9.965396940114036e-230\n",
      "Probability[sample image is 9] = 0.0\n"
     ]
    },
    {
     "data": {
      "text/latex": [
       "\n",
       "Based on computed Probabilities, the digit is predicted to be $Y = 1$."
      ],
      "text/plain": [
       "<IPython.core.display.Latex object>"
      ]
     },
     "metadata": {},
     "output_type": "display_data"
    }
   ],
   "source": [
    "# Based on the Image Features and the new likelood functions, computing the Probabilities that it belongs to a respective class\n",
    "max_prob = 0\n",
    "for i in range(10):\n",
    "    prob = likelihood[i].pdf(sample_image_features)*prior[i]\n",
    "    print('Probability[sample image is {}] = {}'.format(i, prob))\n",
    "    if prob > max_prob:\n",
    "        max_prob = prob\n",
    "        arg_max = i  \n",
    "display(Latex('\\nBased on computed Probabilities, the digit is predicted to be $Y = {}$.'.format(arg_max)))"
   ]
  },
  {
   "cell_type": "code",
   "execution_count": 39,
   "metadata": {},
   "outputs": [
    {
     "data": {
      "text/plain": [
       "1"
      ]
     },
     "execution_count": 39,
     "metadata": {},
     "output_type": "execute_result"
    }
   ],
   "source": [
    "# Making the above prediction using the predict_digit function\n",
    "predict_digit(sample_image_features)"
   ]
  },
  {
   "cell_type": "markdown",
   "metadata": {},
   "source": [
    "#### QDA Classification of Labels on all the Images in Test Data "
   ]
  },
  {
   "cell_type": "code",
   "execution_count": 40,
   "metadata": {},
   "outputs": [
    {
     "name": "stdout",
     "output_type": "stream",
     "text": [
      "Dimensions of test data features:  (1500, 85)\n",
      "Dimensions of test data labels:  (1500,)\n"
     ]
    }
   ],
   "source": [
    "# Testing the approach on the full test data\n",
    "print('Dimensions of test data features: ', test_features.shape)\n",
    "print('Dimensions of test data labels: ', test_label.shape)"
   ]
  },
  {
   "cell_type": "code",
   "execution_count": 41,
   "metadata": {},
   "outputs": [],
   "source": [
    "qda_prediction = np.empty(m, int)\n",
    "for i in range(m):\n",
    "    qda_prediction[i] = predict_digit(test_features[i])"
   ]
  },
  {
   "cell_type": "code",
   "execution_count": 42,
   "metadata": {},
   "outputs": [
    {
     "name": "stdout",
     "output_type": "stream",
     "text": [
      "True Labels: [1 8 0 5 0 9 1 5 7 5 8 6 7 4 7]\n",
      "Predictions: [1 0 0 5 0 9 1 5 7 5 8 6 7 4 7]\n"
     ]
    }
   ],
   "source": [
    "# Comparing the First 15 classification results\n",
    "print('True Labels: {}'.format(test_label[:15]))\n",
    "print('Predictions: {}'.format(qda_prediction[:15]))"
   ]
  },
  {
   "cell_type": "markdown",
   "metadata": {},
   "source": [
    "#### Evaluation of Quadratic Discriminant Analysis"
   ]
  },
  {
   "cell_type": "code",
   "execution_count": 43,
   "metadata": {},
   "outputs": [
    {
     "name": "stdout",
     "output_type": "stream",
     "text": [
      "Number of correct classifications: 1417\n",
      "Number of incorrect classifications: 83\n"
     ]
    }
   ],
   "source": [
    "# Computing number of misclassifications\n",
    "correct_classification = np.equal(test_label, qda_prediction)\n",
    "error_idx = np.argwhere(correct_classification == False)  # array of test_data indexes where incorrect classifications are made \n",
    "\n",
    "print('Number of correct classifications:', sum(correct_classification))\n",
    "print('Number of incorrect classifications:', len(error_idx))"
   ]
  },
  {
   "cell_type": "code",
   "execution_count": 44,
   "metadata": {},
   "outputs": [
    {
     "name": "stdout",
     "output_type": "stream",
     "text": [
      "Actual Label: [8]\n",
      "Output Label: [0]\n"
     ]
    },
    {
     "data": {
      "text/plain": [
       "<Figure size 432x288 with 0 Axes>"
      ]
     },
     "metadata": {},
     "output_type": "display_data"
    },
    {
     "data": {
      "image/png": "[encoded data removed]",
      "text/plain": [
       "<Figure size 288x288 with 1 Axes>"
      ]
     },
     "metadata": {
      "needs_background": "light"
     },
     "output_type": "display_data"
    },
    {
     "name": "stdout",
     "output_type": "stream",
     "text": [
      "\n",
      "Actual Label: [1]\n",
      "Output Label: [8]\n"
     ]
    },
    {
     "data": {
      "text/plain": [
       "<Figure size 432x288 with 0 Axes>"
      ]
     },
     "metadata": {},
     "output_type": "display_data"
    },
    {
     "data": {
      "image/png": "[encoded data removed]",
      "text/plain": [
       "<Figure size 288x288 with 1 Axes>"
      ]
     },
     "metadata": {
      "needs_background": "light"
     },
     "output_type": "display_data"
    },
    {
     "name": "stdout",
     "output_type": "stream",
     "text": [
      "\n",
      "Actual Label: [4]\n",
      "Output Label: [8]\n"
     ]
    },
    {
     "data": {
      "text/plain": [
       "<Figure size 432x288 with 0 Axes>"
      ]
     },
     "metadata": {},
     "output_type": "display_data"
    },
    {
     "data": {
      "image/png": "[encoded data removed]",
      "text/plain": [
       "<Figure size 288x288 with 1 Axes>"
      ]
     },
     "metadata": {
      "needs_background": "light"
     },
     "output_type": "display_data"
    },
    {
     "name": "stdout",
     "output_type": "stream",
     "text": [
      "\n"
     ]
    }
   ],
   "source": [
    "# Examples of incorrect images in QDA classifier\n",
    "for i in range(3):\n",
    "    x = error_idx[i]\n",
    "    print('Actual Label:', test_label[x])\n",
    "    print('Output Label:', qda_prediction[x])\n",
    "    image = mean_datascaler.inverse_transform(test_features[x]@M)\n",
    "    plt.gray()\n",
    "    plt.matshow(image.reshape((28,28)))\n",
    "    plt.show()\n",
    "    print('')"
   ]
  },
  {
   "cell_type": "code",
   "execution_count": 45,
   "metadata": {},
   "outputs": [
    {
     "name": "stdout",
     "output_type": "stream",
     "text": [
      "The Error rate on this QDA classifier is 5.53%\n",
      "Digit classifier built using Quadratic Discriminant Analysis is 94.5% accurate on this dataset.\n"
     ]
    }
   ],
   "source": [
    "# Error rate of the classifier\n",
    "print('The Error rate on this QDA classifier is {}%'.format(round(len(error_idx)*100/m, 2)))\n",
    "print('Digit classifier built using Quadratic Discriminant Analysis is {}% accurate on this dataset.'.\\\n",
    "      format(round(sum(correct_classification)*100/m, 1)))"
   ]
  },
  {
   "cell_type": "markdown",
   "metadata": {},
   "source": [
    "---"
   ]
  },
  {
   "cell_type": "markdown",
   "metadata": {},
   "source": [
    "***Naive Bayes' approach vs QDA on Digit Classification problem***  \n",
    "On this dataset, QDA was found to be more accurate at classifying handwritten digits than the Naive Bayes' approach to classification."
   ]
  }
 ],
 "metadata": {
  "kernelspec": {
   "display_name": "Python 3",
   "language": "python",
   "name": "python3"
  },
  "language_info": {
   "codemirror_mode": {
    "name": "ipython",
    "version": 3
   },
   "file_extension": ".py",
   "mimetype": "text/x-python",
   "name": "python",
   "nbconvert_exporter": "python",
   "pygments_lexer": "ipython3",
   "version": "3.7.3"
  }
 },
 "nbformat": 4,
 "nbformat_minor": 4
}
